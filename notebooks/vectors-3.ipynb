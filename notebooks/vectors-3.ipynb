{
 "cells": [
  {
   "cell_type": "code",
   "execution_count": 1,
   "metadata": {},
   "outputs": [],
   "source": [
    "import numpy as np\n",
    "import matplotlib.pyplot as plt\n",
    "from IPython.display import display, Math\n",
    "\n",
    "import sys\n",
    "import os\n",
    "sys.path.append(os.path.abspath('../lib'))\n",
    "\n",
    "import vectorutils as vu"
   ]
  },
  {
   "cell_type": "markdown",
   "metadata": {},
   "source": [
    "# Subspaces\n",
    "\n",
    "$$\n",
    "\\mathbb{R^n} = \n",
    "\\left\\{\n",
    "\\begin{bmatrix}\n",
    "x_1 \\\\\n",
    "x_2 \\\\\n",
    "\\vdots \\\\\n",
    "x_n\n",
    "\\end{bmatrix}\n",
    "\\,\\middle|\\,\n",
    "x_i \\in \\mathbb{R}, 1 \\le i \\le n\n",
    "\\right\\}\n",
    "$$\n",
    "\n",
    "$$\n",
    "V \\subseteq \\mathbb{R^n}, \n",
    "\\text{ If } V \\subseteq \\mathbb{R}^n \\text{ is a subspace, then } V \\implies\n",
    "\\begin{cases}\n",
    "0 \\in V, \\\\\n",
    "\\text{if } u, v \\in V \\text{ then } u + v \\in V, \\\\\n",
    "\\text{if } \\alpha \\in \\mathbb{R} \\text{ and } u \\in V \\text{ then } \\alpha u \\in V.\n",
    "\\end{cases}\n",
    "$$\n",
    "\n",
    "Obvious example: line as a subspace of $\\mathbb{R^2}$, $0$ which is just a dot with zero dimensions\n",
    "\n",
    "Non-obvious one: $span(v_1,v_2,v_3)$ is a subspace, by the definition of span, since it is all the linear combinations it contains $0$, all the sums and all the scalar multiplications."
   ]
  }
 ],
 "metadata": {
  "kernelspec": {
   "display_name": "base",
   "language": "python",
   "name": "python3"
  },
  "language_info": {
   "codemirror_mode": {
    "name": "ipython",
    "version": 3
   },
   "file_extension": ".py",
   "mimetype": "text/x-python",
   "name": "python",
   "nbconvert_exporter": "python",
   "pygments_lexer": "ipython3",
   "version": "3.12.3"
  }
 },
 "nbformat": 4,
 "nbformat_minor": 2
}
